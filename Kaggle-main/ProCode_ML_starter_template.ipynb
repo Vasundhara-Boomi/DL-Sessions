{
  "cells": [
    {
      "cell_type": "markdown",
      "metadata": {
        "colab_type": "text",
        "id": "view-in-github"
      },
      "source": [
        "<a href=\"https://colab.research.google.com/github/gokulakrishnanbalaji/ProCode-Kaggle/blob/main/ProCode_ML_starter_template.ipynb\" target=\"_parent\"><img src=\"https://colab.research.google.com/assets/colab-badge.svg\" alt=\"Open In Colab\"/></a>"
      ]
    },
    {
      "cell_type": "markdown",
      "metadata": {
        "id": "ioctzKlgLBGk"
      },
      "source": [
        "Competition website: [Kaggle competition link](https://www.kaggle.com/competitions/playground-series-s4e1/)"
      ]
    },
    {
      "cell_type": "code",
      "execution_count": 86,
      "metadata": {
        "id": "vUAXKGvTpuJx"
      },
      "outputs": [
        {
          "name": "stderr",
          "output_type": "stream",
          "text": [
            "'wget' is not recognized as an internal or external command,\n",
            "operable program or batch file.\n",
            "'wget' is not recognized as an internal or external command,\n",
            "operable program or batch file.\n",
            "'wget' is not recognized as an internal or external command,\n",
            "operable program or batch file.\n"
          ]
        }
      ],
      "source": [
        "! wget -O train.csv https://raw.githubusercontent.com/gokulakrishnanbalaji/ProCode-Kaggle/main/train.csv\n",
        "! wget -O test.csv https://raw.githubusercontent.com/gokulakrishnanbalaji/ProCode-Kaggle/main/test.csv\n",
        "! wget -O sample_submission.csv https://raw.githubusercontent.com/gokulakrishnanbalaji/ProCode-Kaggle/main/sample_submission.csv"
      ]
    },
    {
      "cell_type": "markdown",
      "metadata": {
        "id": "EXVe5QfUJ-I3"
      },
      "source": [
        "# Importing Libraries\n"
      ]
    },
    {
      "cell_type": "code",
      "execution_count": 87,
      "metadata": {
        "id": "_7jjl138J-_f"
      },
      "outputs": [],
      "source": [
        "import matplotlib.pyplot as plt\n",
        "import numpy as np\n",
        "import pandas as pd\n"
      ]
    },
    {
      "cell_type": "markdown",
      "metadata": {
        "id": "JNLl6jG-KNsi"
      },
      "source": [
        "# Data Exploration and analysis"
      ]
    },
    {
      "cell_type": "code",
      "execution_count": 88,
      "metadata": {
        "id": "jRH7P7FdKKfr"
      },
      "outputs": [],
      "source": [
        "# Load the dataset\n",
        "train_data=pd.read_csv(\"train.csv\")\n",
        "test_data=pd.read_csv(\"test.csv\")\n"
      ]
    },
    {
      "cell_type": "code",
      "execution_count": 89,
      "metadata": {
        "id": "q6D8r3UEKVoc"
      },
      "outputs": [
        {
          "data": {
            "text/html": [
              "<div>\n",
              "<style scoped>\n",
              "    .dataframe tbody tr th:only-of-type {\n",
              "        vertical-align: middle;\n",
              "    }\n",
              "\n",
              "    .dataframe tbody tr th {\n",
              "        vertical-align: top;\n",
              "    }\n",
              "\n",
              "    .dataframe thead th {\n",
              "        text-align: right;\n",
              "    }\n",
              "</style>\n",
              "<table border=\"1\" class=\"dataframe\">\n",
              "  <thead>\n",
              "    <tr style=\"text-align: right;\">\n",
              "      <th></th>\n",
              "      <th>id</th>\n",
              "      <th>CustomerId</th>\n",
              "      <th>CreditScore</th>\n",
              "      <th>Age</th>\n",
              "      <th>Tenure</th>\n",
              "      <th>Balance</th>\n",
              "      <th>NumOfProducts</th>\n",
              "      <th>HasCrCard</th>\n",
              "      <th>IsActiveMember</th>\n",
              "      <th>EstimatedSalary</th>\n",
              "      <th>Exited</th>\n",
              "    </tr>\n",
              "  </thead>\n",
              "  <tbody>\n",
              "    <tr>\n",
              "      <th>count</th>\n",
              "      <td>165034.0000</td>\n",
              "      <td>1.650340e+05</td>\n",
              "      <td>165034.000000</td>\n",
              "      <td>165034.000000</td>\n",
              "      <td>165034.000000</td>\n",
              "      <td>165034.000000</td>\n",
              "      <td>165034.000000</td>\n",
              "      <td>165034.000000</td>\n",
              "      <td>165034.000000</td>\n",
              "      <td>165034.000000</td>\n",
              "      <td>165034.000000</td>\n",
              "    </tr>\n",
              "    <tr>\n",
              "      <th>mean</th>\n",
              "      <td>82516.5000</td>\n",
              "      <td>1.569201e+07</td>\n",
              "      <td>656.454373</td>\n",
              "      <td>38.125888</td>\n",
              "      <td>5.020353</td>\n",
              "      <td>55478.086689</td>\n",
              "      <td>1.554455</td>\n",
              "      <td>0.753954</td>\n",
              "      <td>0.497770</td>\n",
              "      <td>112574.822734</td>\n",
              "      <td>0.211599</td>\n",
              "    </tr>\n",
              "    <tr>\n",
              "      <th>std</th>\n",
              "      <td>47641.3565</td>\n",
              "      <td>7.139782e+04</td>\n",
              "      <td>80.103340</td>\n",
              "      <td>8.867205</td>\n",
              "      <td>2.806159</td>\n",
              "      <td>62817.663278</td>\n",
              "      <td>0.547154</td>\n",
              "      <td>0.430707</td>\n",
              "      <td>0.499997</td>\n",
              "      <td>50292.865585</td>\n",
              "      <td>0.408443</td>\n",
              "    </tr>\n",
              "    <tr>\n",
              "      <th>min</th>\n",
              "      <td>0.0000</td>\n",
              "      <td>1.556570e+07</td>\n",
              "      <td>350.000000</td>\n",
              "      <td>18.000000</td>\n",
              "      <td>0.000000</td>\n",
              "      <td>0.000000</td>\n",
              "      <td>1.000000</td>\n",
              "      <td>0.000000</td>\n",
              "      <td>0.000000</td>\n",
              "      <td>11.580000</td>\n",
              "      <td>0.000000</td>\n",
              "    </tr>\n",
              "    <tr>\n",
              "      <th>25%</th>\n",
              "      <td>41258.2500</td>\n",
              "      <td>1.563314e+07</td>\n",
              "      <td>597.000000</td>\n",
              "      <td>32.000000</td>\n",
              "      <td>3.000000</td>\n",
              "      <td>0.000000</td>\n",
              "      <td>1.000000</td>\n",
              "      <td>1.000000</td>\n",
              "      <td>0.000000</td>\n",
              "      <td>74637.570000</td>\n",
              "      <td>0.000000</td>\n",
              "    </tr>\n",
              "    <tr>\n",
              "      <th>50%</th>\n",
              "      <td>82516.5000</td>\n",
              "      <td>1.569017e+07</td>\n",
              "      <td>659.000000</td>\n",
              "      <td>37.000000</td>\n",
              "      <td>5.000000</td>\n",
              "      <td>0.000000</td>\n",
              "      <td>2.000000</td>\n",
              "      <td>1.000000</td>\n",
              "      <td>0.000000</td>\n",
              "      <td>117948.000000</td>\n",
              "      <td>0.000000</td>\n",
              "    </tr>\n",
              "    <tr>\n",
              "      <th>75%</th>\n",
              "      <td>123774.7500</td>\n",
              "      <td>1.575682e+07</td>\n",
              "      <td>710.000000</td>\n",
              "      <td>42.000000</td>\n",
              "      <td>7.000000</td>\n",
              "      <td>119939.517500</td>\n",
              "      <td>2.000000</td>\n",
              "      <td>1.000000</td>\n",
              "      <td>1.000000</td>\n",
              "      <td>155152.467500</td>\n",
              "      <td>0.000000</td>\n",
              "    </tr>\n",
              "    <tr>\n",
              "      <th>max</th>\n",
              "      <td>165033.0000</td>\n",
              "      <td>1.581569e+07</td>\n",
              "      <td>850.000000</td>\n",
              "      <td>92.000000</td>\n",
              "      <td>10.000000</td>\n",
              "      <td>250898.090000</td>\n",
              "      <td>4.000000</td>\n",
              "      <td>1.000000</td>\n",
              "      <td>1.000000</td>\n",
              "      <td>199992.480000</td>\n",
              "      <td>1.000000</td>\n",
              "    </tr>\n",
              "  </tbody>\n",
              "</table>\n",
              "</div>"
            ],
            "text/plain": [
              "                id    CustomerId    CreditScore            Age         Tenure  \\\n",
              "count  165034.0000  1.650340e+05  165034.000000  165034.000000  165034.000000   \n",
              "mean    82516.5000  1.569201e+07     656.454373      38.125888       5.020353   \n",
              "std     47641.3565  7.139782e+04      80.103340       8.867205       2.806159   \n",
              "min         0.0000  1.556570e+07     350.000000      18.000000       0.000000   \n",
              "25%     41258.2500  1.563314e+07     597.000000      32.000000       3.000000   \n",
              "50%     82516.5000  1.569017e+07     659.000000      37.000000       5.000000   \n",
              "75%    123774.7500  1.575682e+07     710.000000      42.000000       7.000000   \n",
              "max    165033.0000  1.581569e+07     850.000000      92.000000      10.000000   \n",
              "\n",
              "             Balance  NumOfProducts      HasCrCard  IsActiveMember  \\\n",
              "count  165034.000000  165034.000000  165034.000000   165034.000000   \n",
              "mean    55478.086689       1.554455       0.753954        0.497770   \n",
              "std     62817.663278       0.547154       0.430707        0.499997   \n",
              "min         0.000000       1.000000       0.000000        0.000000   \n",
              "25%         0.000000       1.000000       1.000000        0.000000   \n",
              "50%         0.000000       2.000000       1.000000        0.000000   \n",
              "75%    119939.517500       2.000000       1.000000        1.000000   \n",
              "max    250898.090000       4.000000       1.000000        1.000000   \n",
              "\n",
              "       EstimatedSalary         Exited  \n",
              "count    165034.000000  165034.000000  \n",
              "mean     112574.822734       0.211599  \n",
              "std       50292.865585       0.408443  \n",
              "min          11.580000       0.000000  \n",
              "25%       74637.570000       0.000000  \n",
              "50%      117948.000000       0.000000  \n",
              "75%      155152.467500       0.000000  \n",
              "max      199992.480000       1.000000  "
            ]
          },
          "execution_count": 89,
          "metadata": {},
          "output_type": "execute_result"
        }
      ],
      "source": [
        "# Explore the first few rows\n",
        "# train_data.head()\n",
        "# train_data.info()\n",
        "train_data.describe()"
      ]
    },
    {
      "cell_type": "code",
      "execution_count": 90,
      "metadata": {
        "id": "SYxkB8ZgKYQY"
      },
      "outputs": [
        {
          "data": {
            "text/plain": [
              "(165034, 14)"
            ]
          },
          "execution_count": 90,
          "metadata": {},
          "output_type": "execute_result"
        }
      ],
      "source": [
        "# Shape of df\n",
        "train_data.shape\n"
      ]
    },
    {
      "cell_type": "code",
      "execution_count": 91,
      "metadata": {
        "id": "7K5LAheCMnlN"
      },
      "outputs": [
        {
          "data": {
            "text/plain": [
              "id                 False\n",
              "CustomerId         False\n",
              "Surname            False\n",
              "CreditScore        False\n",
              "Geography          False\n",
              "Gender             False\n",
              "Age                False\n",
              "Tenure             False\n",
              "Balance            False\n",
              "NumOfProducts      False\n",
              "HasCrCard          False\n",
              "IsActiveMember     False\n",
              "EstimatedSalary    False\n",
              "Exited             False\n",
              "dtype: bool"
            ]
          },
          "execution_count": 91,
          "metadata": {},
          "output_type": "execute_result"
        }
      ],
      "source": [
        "# check for null values\n",
        "train_data.isna().any()"
      ]
    },
    {
      "cell_type": "code",
      "execution_count": 92,
      "metadata": {
        "id": "U5Dl77zCNV9h"
      },
      "outputs": [],
      "source": [
        "# Identify unwanted column and remove them in both train and test\n",
        "train_data=train_data.drop(['id','CustomerId','Surname'],axis=1)\n",
        "y_id = test_data['id']\n",
        "test_data=test_data.drop(['id','CustomerId','Surname'],axis=1)"
      ]
    },
    {
      "cell_type": "code",
      "execution_count": 93,
      "metadata": {
        "id": "wiI2j3m_N8vN"
      },
      "outputs": [
        {
          "data": {
            "text/plain": [
              "123"
            ]
          },
          "execution_count": 93,
          "metadata": {},
          "output_type": "execute_result"
        }
      ],
      "source": [
        "# check for duplicates\n",
        "train_data.duplicated().sum()"
      ]
    },
    {
      "cell_type": "code",
      "execution_count": 94,
      "metadata": {
        "id": "DoJnNOtpOSxf"
      },
      "outputs": [],
      "source": [
        "# Drop the duplicates\n",
        "train_data=train_data.drop_duplicates()\n",
        "train_data.duplicated().sum()\n",
        "test_data=test_data.drop_duplicates()"
      ]
    },
    {
      "cell_type": "code",
      "execution_count": 95,
      "metadata": {
        "id": "T_KbYxqsPf8d"
      },
      "outputs": [],
      "source": [
        "# Separate numerical and categorical data\n",
        "num_train_data=train_data.select_dtypes(include=np.number)\n",
        "cat_train_data=train_data.select_dtypes(exclude=np.number)\n",
        "\n",
        "num_test_data=test_data.select_dtypes(include=np.number)\n",
        "cat_test_data=test_data.select_dtypes(exclude=np.number)"
      ]
    },
    {
      "cell_type": "code",
      "execution_count": 96,
      "metadata": {
        "id": "d3l2KdaOQULs"
      },
      "outputs": [
        {
          "data": {
            "text/html": [
              "<div>\n",
              "<style scoped>\n",
              "    .dataframe tbody tr th:only-of-type {\n",
              "        vertical-align: middle;\n",
              "    }\n",
              "\n",
              "    .dataframe tbody tr th {\n",
              "        vertical-align: top;\n",
              "    }\n",
              "\n",
              "    .dataframe thead th {\n",
              "        text-align: right;\n",
              "    }\n",
              "</style>\n",
              "<table border=\"1\" class=\"dataframe\">\n",
              "  <thead>\n",
              "    <tr style=\"text-align: right;\">\n",
              "      <th></th>\n",
              "      <th>CreditScore</th>\n",
              "      <th>Age</th>\n",
              "      <th>Tenure</th>\n",
              "      <th>Balance</th>\n",
              "      <th>NumOfProducts</th>\n",
              "      <th>HasCrCard</th>\n",
              "      <th>IsActiveMember</th>\n",
              "      <th>EstimatedSalary</th>\n",
              "      <th>Exited</th>\n",
              "    </tr>\n",
              "  </thead>\n",
              "  <tbody>\n",
              "    <tr>\n",
              "      <th>CreditScore</th>\n",
              "      <td>1.000000</td>\n",
              "      <td>-0.008832</td>\n",
              "      <td>0.000969</td>\n",
              "      <td>0.006880</td>\n",
              "      <td>0.011360</td>\n",
              "      <td>-0.002851</td>\n",
              "      <td>0.014944</td>\n",
              "      <td>-0.001866</td>\n",
              "      <td>-0.027541</td>\n",
              "    </tr>\n",
              "    <tr>\n",
              "      <th>Age</th>\n",
              "      <td>-0.008832</td>\n",
              "      <td>1.000000</td>\n",
              "      <td>-0.010797</td>\n",
              "      <td>0.064426</td>\n",
              "      <td>-0.102274</td>\n",
              "      <td>-0.012282</td>\n",
              "      <td>0.003161</td>\n",
              "      <td>-0.005533</td>\n",
              "      <td>0.341009</td>\n",
              "    </tr>\n",
              "    <tr>\n",
              "      <th>Tenure</th>\n",
              "      <td>0.000969</td>\n",
              "      <td>-0.010797</td>\n",
              "      <td>1.000000</td>\n",
              "      <td>-0.009532</td>\n",
              "      <td>0.007387</td>\n",
              "      <td>0.005358</td>\n",
              "      <td>-0.005509</td>\n",
              "      <td>0.001082</td>\n",
              "      <td>-0.019557</td>\n",
              "    </tr>\n",
              "    <tr>\n",
              "      <th>Balance</th>\n",
              "      <td>0.006880</td>\n",
              "      <td>0.064426</td>\n",
              "      <td>-0.009532</td>\n",
              "      <td>1.000000</td>\n",
              "      <td>-0.360986</td>\n",
              "      <td>-0.018569</td>\n",
              "      <td>-0.014984</td>\n",
              "      <td>0.008566</td>\n",
              "      <td>0.129669</td>\n",
              "    </tr>\n",
              "    <tr>\n",
              "      <th>NumOfProducts</th>\n",
              "      <td>0.011360</td>\n",
              "      <td>-0.102274</td>\n",
              "      <td>0.007387</td>\n",
              "      <td>-0.360986</td>\n",
              "      <td>1.000000</td>\n",
              "      <td>0.005441</td>\n",
              "      <td>0.039741</td>\n",
              "      <td>-0.004322</td>\n",
              "      <td>-0.214598</td>\n",
              "    </tr>\n",
              "    <tr>\n",
              "      <th>HasCrCard</th>\n",
              "      <td>-0.002851</td>\n",
              "      <td>-0.012282</td>\n",
              "      <td>0.005358</td>\n",
              "      <td>-0.018569</td>\n",
              "      <td>0.005441</td>\n",
              "      <td>1.000000</td>\n",
              "      <td>-0.021023</td>\n",
              "      <td>0.004581</td>\n",
              "      <td>-0.022141</td>\n",
              "    </tr>\n",
              "    <tr>\n",
              "      <th>IsActiveMember</th>\n",
              "      <td>0.014944</td>\n",
              "      <td>0.003161</td>\n",
              "      <td>-0.005509</td>\n",
              "      <td>-0.014984</td>\n",
              "      <td>0.039741</td>\n",
              "      <td>-0.021023</td>\n",
              "      <td>1.000000</td>\n",
              "      <td>-0.008084</td>\n",
              "      <td>-0.210254</td>\n",
              "    </tr>\n",
              "    <tr>\n",
              "      <th>EstimatedSalary</th>\n",
              "      <td>-0.001866</td>\n",
              "      <td>-0.005533</td>\n",
              "      <td>0.001082</td>\n",
              "      <td>0.008566</td>\n",
              "      <td>-0.004322</td>\n",
              "      <td>0.004581</td>\n",
              "      <td>-0.008084</td>\n",
              "      <td>1.000000</td>\n",
              "      <td>0.018722</td>\n",
              "    </tr>\n",
              "    <tr>\n",
              "      <th>Exited</th>\n",
              "      <td>-0.027541</td>\n",
              "      <td>0.341009</td>\n",
              "      <td>-0.019557</td>\n",
              "      <td>0.129669</td>\n",
              "      <td>-0.214598</td>\n",
              "      <td>-0.022141</td>\n",
              "      <td>-0.210254</td>\n",
              "      <td>0.018722</td>\n",
              "      <td>1.000000</td>\n",
              "    </tr>\n",
              "  </tbody>\n",
              "</table>\n",
              "</div>"
            ],
            "text/plain": [
              "                 CreditScore       Age    Tenure   Balance  NumOfProducts  \\\n",
              "CreditScore         1.000000 -0.008832  0.000969  0.006880       0.011360   \n",
              "Age                -0.008832  1.000000 -0.010797  0.064426      -0.102274   \n",
              "Tenure              0.000969 -0.010797  1.000000 -0.009532       0.007387   \n",
              "Balance             0.006880  0.064426 -0.009532  1.000000      -0.360986   \n",
              "NumOfProducts       0.011360 -0.102274  0.007387 -0.360986       1.000000   \n",
              "HasCrCard          -0.002851 -0.012282  0.005358 -0.018569       0.005441   \n",
              "IsActiveMember      0.014944  0.003161 -0.005509 -0.014984       0.039741   \n",
              "EstimatedSalary    -0.001866 -0.005533  0.001082  0.008566      -0.004322   \n",
              "Exited             -0.027541  0.341009 -0.019557  0.129669      -0.214598   \n",
              "\n",
              "                 HasCrCard  IsActiveMember  EstimatedSalary    Exited  \n",
              "CreditScore      -0.002851        0.014944        -0.001866 -0.027541  \n",
              "Age              -0.012282        0.003161        -0.005533  0.341009  \n",
              "Tenure            0.005358       -0.005509         0.001082 -0.019557  \n",
              "Balance          -0.018569       -0.014984         0.008566  0.129669  \n",
              "NumOfProducts     0.005441        0.039741        -0.004322 -0.214598  \n",
              "HasCrCard         1.000000       -0.021023         0.004581 -0.022141  \n",
              "IsActiveMember   -0.021023        1.000000        -0.008084 -0.210254  \n",
              "EstimatedSalary   0.004581       -0.008084         1.000000  0.018722  \n",
              "Exited           -0.022141       -0.210254         0.018722  1.000000  "
            ]
          },
          "execution_count": 96,
          "metadata": {},
          "output_type": "execute_result"
        }
      ],
      "source": [
        "# check correlation among numerical data cols\n",
        "corr=num_train_data.corr()\n",
        "corr"
      ]
    },
    {
      "cell_type": "markdown",
      "metadata": {
        "id": "KfaLs_h6RfJd"
      },
      "source": [
        "# Data Preprocessing"
      ]
    },
    {
      "cell_type": "code",
      "execution_count": 97,
      "metadata": {
        "id": "OoxfFq7QQuAO"
      },
      "outputs": [
        {
          "data": {
            "text/html": [
              "<div>\n",
              "<style scoped>\n",
              "    .dataframe tbody tr th:only-of-type {\n",
              "        vertical-align: middle;\n",
              "    }\n",
              "\n",
              "    .dataframe tbody tr th {\n",
              "        vertical-align: top;\n",
              "    }\n",
              "\n",
              "    .dataframe thead th {\n",
              "        text-align: right;\n",
              "    }\n",
              "</style>\n",
              "<table border=\"1\" class=\"dataframe\">\n",
              "  <thead>\n",
              "    <tr style=\"text-align: right;\">\n",
              "      <th></th>\n",
              "      <th>CreditScore</th>\n",
              "      <th>Geography</th>\n",
              "      <th>Gender</th>\n",
              "      <th>Age</th>\n",
              "      <th>Tenure</th>\n",
              "      <th>Balance</th>\n",
              "      <th>NumOfProducts</th>\n",
              "      <th>HasCrCard</th>\n",
              "      <th>IsActiveMember</th>\n",
              "      <th>EstimatedSalary</th>\n",
              "    </tr>\n",
              "  </thead>\n",
              "  <tbody>\n",
              "    <tr>\n",
              "      <th>0</th>\n",
              "      <td>586</td>\n",
              "      <td>0</td>\n",
              "      <td>0</td>\n",
              "      <td>23.0</td>\n",
              "      <td>2</td>\n",
              "      <td>0.00</td>\n",
              "      <td>2</td>\n",
              "      <td>0.0</td>\n",
              "      <td>1.0</td>\n",
              "      <td>160976.75</td>\n",
              "    </tr>\n",
              "    <tr>\n",
              "      <th>1</th>\n",
              "      <td>683</td>\n",
              "      <td>0</td>\n",
              "      <td>0</td>\n",
              "      <td>46.0</td>\n",
              "      <td>2</td>\n",
              "      <td>0.00</td>\n",
              "      <td>1</td>\n",
              "      <td>1.0</td>\n",
              "      <td>0.0</td>\n",
              "      <td>72549.27</td>\n",
              "    </tr>\n",
              "    <tr>\n",
              "      <th>2</th>\n",
              "      <td>656</td>\n",
              "      <td>0</td>\n",
              "      <td>0</td>\n",
              "      <td>34.0</td>\n",
              "      <td>7</td>\n",
              "      <td>0.00</td>\n",
              "      <td>2</td>\n",
              "      <td>1.0</td>\n",
              "      <td>0.0</td>\n",
              "      <td>138882.09</td>\n",
              "    </tr>\n",
              "    <tr>\n",
              "      <th>3</th>\n",
              "      <td>681</td>\n",
              "      <td>0</td>\n",
              "      <td>1</td>\n",
              "      <td>36.0</td>\n",
              "      <td>8</td>\n",
              "      <td>0.00</td>\n",
              "      <td>1</td>\n",
              "      <td>1.0</td>\n",
              "      <td>0.0</td>\n",
              "      <td>113931.57</td>\n",
              "    </tr>\n",
              "    <tr>\n",
              "      <th>4</th>\n",
              "      <td>752</td>\n",
              "      <td>1</td>\n",
              "      <td>1</td>\n",
              "      <td>38.0</td>\n",
              "      <td>10</td>\n",
              "      <td>121263.62</td>\n",
              "      <td>1</td>\n",
              "      <td>1.0</td>\n",
              "      <td>0.0</td>\n",
              "      <td>139431.00</td>\n",
              "    </tr>\n",
              "  </tbody>\n",
              "</table>\n",
              "</div>"
            ],
            "text/plain": [
              "   CreditScore  Geography  Gender   Age  Tenure    Balance  NumOfProducts  \\\n",
              "0          586          0       0  23.0       2       0.00              2   \n",
              "1          683          0       0  46.0       2       0.00              1   \n",
              "2          656          0       0  34.0       7       0.00              2   \n",
              "3          681          0       1  36.0       8       0.00              1   \n",
              "4          752          1       1  38.0      10  121263.62              1   \n",
              "\n",
              "   HasCrCard  IsActiveMember  EstimatedSalary  \n",
              "0        0.0             1.0        160976.75  \n",
              "1        1.0             0.0         72549.27  \n",
              "2        1.0             0.0        138882.09  \n",
              "3        1.0             0.0        113931.57  \n",
              "4        1.0             0.0        139431.00  "
            ]
          },
          "execution_count": 97,
          "metadata": {},
          "output_type": "execute_result"
        }
      ],
      "source": [
        "# Label encode for categorical variable for train and test\n",
        "\n",
        "from sklearn.preprocessing import LabelEncoder\n",
        "labelencoder=LabelEncoder()\n",
        "for columns in cat_train_data.columns:\n",
        "    labelencoder.fit(train_data[columns])\n",
        "    train_data[columns]=labelencoder.transform(train_data[columns])\n",
        "train_data.head()\n",
        "\n",
        "for columns in cat_test_data.columns:\n",
        "    labelencoder.fit(test_data[columns])\n",
        "    test_data[columns]=labelencoder.transform(test_data[columns])\n",
        "test_data.head()"
      ]
    },
    {
      "cell_type": "markdown",
      "metadata": {
        "id": "xMOpQnGUTmGg"
      },
      "source": [
        "# Feature engineering"
      ]
    },
    {
      "cell_type": "code",
      "execution_count": 98,
      "metadata": {
        "id": "QOPWMJufSq4T"
      },
      "outputs": [
        {
          "data": {
            "text/html": [
              "<div>\n",
              "<style scoped>\n",
              "    .dataframe tbody tr th:only-of-type {\n",
              "        vertical-align: middle;\n",
              "    }\n",
              "\n",
              "    .dataframe tbody tr th {\n",
              "        vertical-align: top;\n",
              "    }\n",
              "\n",
              "    .dataframe thead th {\n",
              "        text-align: right;\n",
              "    }\n",
              "</style>\n",
              "<table border=\"1\" class=\"dataframe\">\n",
              "  <thead>\n",
              "    <tr style=\"text-align: right;\">\n",
              "      <th></th>\n",
              "      <th>CreditScore</th>\n",
              "      <th>Geography</th>\n",
              "      <th>Gender</th>\n",
              "      <th>Age</th>\n",
              "      <th>Tenure</th>\n",
              "      <th>Balance</th>\n",
              "      <th>NumOfProducts</th>\n",
              "      <th>HasCrCard</th>\n",
              "      <th>IsActiveMember</th>\n",
              "      <th>EstimatedSalary</th>\n",
              "      <th>balance_per_salary</th>\n",
              "    </tr>\n",
              "  </thead>\n",
              "  <tbody>\n",
              "    <tr>\n",
              "      <th>0</th>\n",
              "      <td>586</td>\n",
              "      <td>0</td>\n",
              "      <td>0</td>\n",
              "      <td>23.0</td>\n",
              "      <td>2</td>\n",
              "      <td>0.00</td>\n",
              "      <td>2</td>\n",
              "      <td>0.0</td>\n",
              "      <td>1.0</td>\n",
              "      <td>160976.75</td>\n",
              "      <td>0.000000</td>\n",
              "    </tr>\n",
              "    <tr>\n",
              "      <th>1</th>\n",
              "      <td>683</td>\n",
              "      <td>0</td>\n",
              "      <td>0</td>\n",
              "      <td>46.0</td>\n",
              "      <td>2</td>\n",
              "      <td>0.00</td>\n",
              "      <td>1</td>\n",
              "      <td>1.0</td>\n",
              "      <td>0.0</td>\n",
              "      <td>72549.27</td>\n",
              "      <td>0.000000</td>\n",
              "    </tr>\n",
              "    <tr>\n",
              "      <th>2</th>\n",
              "      <td>656</td>\n",
              "      <td>0</td>\n",
              "      <td>0</td>\n",
              "      <td>34.0</td>\n",
              "      <td>7</td>\n",
              "      <td>0.00</td>\n",
              "      <td>2</td>\n",
              "      <td>1.0</td>\n",
              "      <td>0.0</td>\n",
              "      <td>138882.09</td>\n",
              "      <td>0.000000</td>\n",
              "    </tr>\n",
              "    <tr>\n",
              "      <th>3</th>\n",
              "      <td>681</td>\n",
              "      <td>0</td>\n",
              "      <td>1</td>\n",
              "      <td>36.0</td>\n",
              "      <td>8</td>\n",
              "      <td>0.00</td>\n",
              "      <td>1</td>\n",
              "      <td>1.0</td>\n",
              "      <td>0.0</td>\n",
              "      <td>113931.57</td>\n",
              "      <td>0.000000</td>\n",
              "    </tr>\n",
              "    <tr>\n",
              "      <th>4</th>\n",
              "      <td>752</td>\n",
              "      <td>1</td>\n",
              "      <td>1</td>\n",
              "      <td>38.0</td>\n",
              "      <td>10</td>\n",
              "      <td>121263.62</td>\n",
              "      <td>1</td>\n",
              "      <td>1.0</td>\n",
              "      <td>0.0</td>\n",
              "      <td>139431.00</td>\n",
              "      <td>0.869703</td>\n",
              "    </tr>\n",
              "    <tr>\n",
              "      <th>...</th>\n",
              "      <td>...</td>\n",
              "      <td>...</td>\n",
              "      <td>...</td>\n",
              "      <td>...</td>\n",
              "      <td>...</td>\n",
              "      <td>...</td>\n",
              "      <td>...</td>\n",
              "      <td>...</td>\n",
              "      <td>...</td>\n",
              "      <td>...</td>\n",
              "      <td>...</td>\n",
              "    </tr>\n",
              "    <tr>\n",
              "      <th>110018</th>\n",
              "      <td>570</td>\n",
              "      <td>2</td>\n",
              "      <td>1</td>\n",
              "      <td>29.0</td>\n",
              "      <td>7</td>\n",
              "      <td>116099.82</td>\n",
              "      <td>1</td>\n",
              "      <td>1.0</td>\n",
              "      <td>1.0</td>\n",
              "      <td>148087.62</td>\n",
              "      <td>0.783994</td>\n",
              "    </tr>\n",
              "    <tr>\n",
              "      <th>110019</th>\n",
              "      <td>575</td>\n",
              "      <td>0</td>\n",
              "      <td>0</td>\n",
              "      <td>36.0</td>\n",
              "      <td>4</td>\n",
              "      <td>178032.53</td>\n",
              "      <td>1</td>\n",
              "      <td>1.0</td>\n",
              "      <td>1.0</td>\n",
              "      <td>42181.68</td>\n",
              "      <td>4.220613</td>\n",
              "    </tr>\n",
              "    <tr>\n",
              "      <th>110020</th>\n",
              "      <td>712</td>\n",
              "      <td>0</td>\n",
              "      <td>1</td>\n",
              "      <td>31.0</td>\n",
              "      <td>2</td>\n",
              "      <td>0.00</td>\n",
              "      <td>2</td>\n",
              "      <td>1.0</td>\n",
              "      <td>0.0</td>\n",
              "      <td>16287.38</td>\n",
              "      <td>0.000000</td>\n",
              "    </tr>\n",
              "    <tr>\n",
              "      <th>110021</th>\n",
              "      <td>709</td>\n",
              "      <td>0</td>\n",
              "      <td>0</td>\n",
              "      <td>32.0</td>\n",
              "      <td>3</td>\n",
              "      <td>0.00</td>\n",
              "      <td>1</td>\n",
              "      <td>1.0</td>\n",
              "      <td>1.0</td>\n",
              "      <td>158816.58</td>\n",
              "      <td>0.000000</td>\n",
              "    </tr>\n",
              "    <tr>\n",
              "      <th>110022</th>\n",
              "      <td>621</td>\n",
              "      <td>0</td>\n",
              "      <td>0</td>\n",
              "      <td>37.0</td>\n",
              "      <td>7</td>\n",
              "      <td>87848.39</td>\n",
              "      <td>1</td>\n",
              "      <td>1.0</td>\n",
              "      <td>0.0</td>\n",
              "      <td>24210.56</td>\n",
              "      <td>3.628515</td>\n",
              "    </tr>\n",
              "  </tbody>\n",
              "</table>\n",
              "<p>109951 rows × 11 columns</p>\n",
              "</div>"
            ],
            "text/plain": [
              "        CreditScore  Geography  Gender   Age  Tenure    Balance  \\\n",
              "0               586          0       0  23.0       2       0.00   \n",
              "1               683          0       0  46.0       2       0.00   \n",
              "2               656          0       0  34.0       7       0.00   \n",
              "3               681          0       1  36.0       8       0.00   \n",
              "4               752          1       1  38.0      10  121263.62   \n",
              "...             ...        ...     ...   ...     ...        ...   \n",
              "110018          570          2       1  29.0       7  116099.82   \n",
              "110019          575          0       0  36.0       4  178032.53   \n",
              "110020          712          0       1  31.0       2       0.00   \n",
              "110021          709          0       0  32.0       3       0.00   \n",
              "110022          621          0       0  37.0       7   87848.39   \n",
              "\n",
              "        NumOfProducts  HasCrCard  IsActiveMember  EstimatedSalary  \\\n",
              "0                   2        0.0             1.0        160976.75   \n",
              "1                   1        1.0             0.0         72549.27   \n",
              "2                   2        1.0             0.0        138882.09   \n",
              "3                   1        1.0             0.0        113931.57   \n",
              "4                   1        1.0             0.0        139431.00   \n",
              "...               ...        ...             ...              ...   \n",
              "110018              1        1.0             1.0        148087.62   \n",
              "110019              1        1.0             1.0         42181.68   \n",
              "110020              2        1.0             0.0         16287.38   \n",
              "110021              1        1.0             1.0        158816.58   \n",
              "110022              1        1.0             0.0         24210.56   \n",
              "\n",
              "        balance_per_salary  \n",
              "0                 0.000000  \n",
              "1                 0.000000  \n",
              "2                 0.000000  \n",
              "3                 0.000000  \n",
              "4                 0.869703  \n",
              "...                    ...  \n",
              "110018            0.783994  \n",
              "110019            4.220613  \n",
              "110020            0.000000  \n",
              "110021            0.000000  \n",
              "110022            3.628515  \n",
              "\n",
              "[109951 rows x 11 columns]"
            ]
          },
          "execution_count": 98,
          "metadata": {},
          "output_type": "execute_result"
        }
      ],
      "source": [
        "# Create new col called balance_per_salary\n",
        "train_data['balance_per_salary']=train_data['Balance']/train_data['EstimatedSalary']\n",
        "# train_data.drop(columns=['Balance','EstimatedSalary'])\n",
        "train_data\n",
        "\n",
        "test_data['balance_per_salary']=test_data['Balance']/test_data['EstimatedSalary']\n",
        "test_data"
      ]
    },
    {
      "cell_type": "code",
      "execution_count": 99,
      "metadata": {
        "id": "yHG1zZLJX7iY"
      },
      "outputs": [
        {
          "data": {
            "text/html": [
              "<div>\n",
              "<style scoped>\n",
              "    .dataframe tbody tr th:only-of-type {\n",
              "        vertical-align: middle;\n",
              "    }\n",
              "\n",
              "    .dataframe tbody tr th {\n",
              "        vertical-align: top;\n",
              "    }\n",
              "\n",
              "    .dataframe thead th {\n",
              "        text-align: right;\n",
              "    }\n",
              "</style>\n",
              "<table border=\"1\" class=\"dataframe\">\n",
              "  <thead>\n",
              "    <tr style=\"text-align: right;\">\n",
              "      <th></th>\n",
              "      <th>CreditScore</th>\n",
              "      <th>Geography</th>\n",
              "      <th>Gender</th>\n",
              "      <th>Age</th>\n",
              "      <th>Tenure</th>\n",
              "      <th>Balance</th>\n",
              "      <th>NumOfProducts</th>\n",
              "      <th>HasCrCard</th>\n",
              "      <th>IsActiveMember</th>\n",
              "      <th>EstimatedSalary</th>\n",
              "      <th>balance_per_salary</th>\n",
              "    </tr>\n",
              "  </thead>\n",
              "  <tbody>\n",
              "    <tr>\n",
              "      <th>0</th>\n",
              "      <td>0.472</td>\n",
              "      <td>0.0</td>\n",
              "      <td>0.0</td>\n",
              "      <td>0.067568</td>\n",
              "      <td>0.2</td>\n",
              "      <td>0.000000</td>\n",
              "      <td>0.333333</td>\n",
              "      <td>0.0</td>\n",
              "      <td>1.0</td>\n",
              "      <td>0.804903</td>\n",
              "      <td>0.000000</td>\n",
              "    </tr>\n",
              "    <tr>\n",
              "      <th>1</th>\n",
              "      <td>0.666</td>\n",
              "      <td>0.0</td>\n",
              "      <td>0.0</td>\n",
              "      <td>0.378378</td>\n",
              "      <td>0.2</td>\n",
              "      <td>0.000000</td>\n",
              "      <td>0.000000</td>\n",
              "      <td>1.0</td>\n",
              "      <td>0.0</td>\n",
              "      <td>0.362723</td>\n",
              "      <td>0.000000</td>\n",
              "    </tr>\n",
              "    <tr>\n",
              "      <th>2</th>\n",
              "      <td>0.612</td>\n",
              "      <td>0.0</td>\n",
              "      <td>0.0</td>\n",
              "      <td>0.216216</td>\n",
              "      <td>0.7</td>\n",
              "      <td>0.000000</td>\n",
              "      <td>0.333333</td>\n",
              "      <td>1.0</td>\n",
              "      <td>0.0</td>\n",
              "      <td>0.694419</td>\n",
              "      <td>0.000000</td>\n",
              "    </tr>\n",
              "    <tr>\n",
              "      <th>3</th>\n",
              "      <td>0.662</td>\n",
              "      <td>0.0</td>\n",
              "      <td>1.0</td>\n",
              "      <td>0.243243</td>\n",
              "      <td>0.8</td>\n",
              "      <td>0.000000</td>\n",
              "      <td>0.000000</td>\n",
              "      <td>1.0</td>\n",
              "      <td>0.0</td>\n",
              "      <td>0.569654</td>\n",
              "      <td>0.000000</td>\n",
              "    </tr>\n",
              "    <tr>\n",
              "      <th>4</th>\n",
              "      <td>0.804</td>\n",
              "      <td>0.5</td>\n",
              "      <td>1.0</td>\n",
              "      <td>0.270270</td>\n",
              "      <td>1.0</td>\n",
              "      <td>0.483318</td>\n",
              "      <td>0.000000</td>\n",
              "      <td>1.0</td>\n",
              "      <td>0.0</td>\n",
              "      <td>0.697164</td>\n",
              "      <td>0.000082</td>\n",
              "    </tr>\n",
              "  </tbody>\n",
              "</table>\n",
              "</div>"
            ],
            "text/plain": [
              "   CreditScore  Geography  Gender       Age  Tenure   Balance  NumOfProducts  \\\n",
              "0        0.472        0.0     0.0  0.067568     0.2  0.000000       0.333333   \n",
              "1        0.666        0.0     0.0  0.378378     0.2  0.000000       0.000000   \n",
              "2        0.612        0.0     0.0  0.216216     0.7  0.000000       0.333333   \n",
              "3        0.662        0.0     1.0  0.243243     0.8  0.000000       0.000000   \n",
              "4        0.804        0.5     1.0  0.270270     1.0  0.483318       0.000000   \n",
              "\n",
              "   HasCrCard  IsActiveMember  EstimatedSalary  balance_per_salary  \n",
              "0        0.0             1.0         0.804903            0.000000  \n",
              "1        1.0             0.0         0.362723            0.000000  \n",
              "2        1.0             0.0         0.694419            0.000000  \n",
              "3        1.0             0.0         0.569654            0.000000  \n",
              "4        1.0             0.0         0.697164            0.000082  "
            ]
          },
          "execution_count": 99,
          "metadata": {},
          "output_type": "execute_result"
        }
      ],
      "source": [
        "# Scale features in both train and test data\n",
        "\n",
        "from sklearn.preprocessing import MinMaxScaler\n",
        "maxminscaler=MinMaxScaler()\n",
        "# ml_train=pd.DataFrame(maxminscaler.fit_transform(train_data.drop(columns=['Exited'])))\n",
        "# ml_train\n",
        "for col in train_data.columns:\n",
        "    if col !='Exited':\n",
        "        # maxminscaler.fit_transform(train_data[[col]])\n",
        "        train_data[col]=maxminscaler.fit_transform(train_data[[col]])\n",
        "        \n",
        "train_data.head()\n",
        "\n",
        "for col in test_data.columns:\n",
        "    if col !='Exited':\n",
        "        test_data[col]=maxminscaler.fit_transform(test_data[[col]])\n",
        "        \n",
        "test_data.head()"
      ]
    },
    {
      "cell_type": "markdown",
      "metadata": {
        "id": "feECXG14ZX1Q"
      },
      "source": [
        "# Model Selection"
      ]
    },
    {
      "cell_type": "code",
      "execution_count": 100,
      "metadata": {
        "id": "BDHRpb2VZYq_"
      },
      "outputs": [
        {
          "name": "stdout",
          "output_type": "stream",
          "text": [
            "(110490, 11)\n"
          ]
        },
        {
          "data": {
            "text/plain": [
              "(54421, 11)"
            ]
          },
          "execution_count": 100,
          "metadata": {},
          "output_type": "execute_result"
        }
      ],
      "source": [
        "# split data as train and test\n",
        "\n",
        "from sklearn.model_selection import train_test_split\n",
        "y=train_data['Exited']\n",
        "x=train_data.drop(columns=['Exited'])\n",
        "train_x,test_x,train_y,test_y=train_test_split(x,y,test_size=0.33,random_state=72)\n",
        "print(train_x.shape)\n",
        "test_x.shape\n"
      ]
    },
    {
      "cell_type": "code",
      "execution_count": 101,
      "metadata": {
        "id": "dP5YFqlRZ1u0"
      },
      "outputs": [],
      "source": [
        "# we will train with logistic regression and XGboost"
      ]
    },
    {
      "cell_type": "code",
      "execution_count": 102,
      "metadata": {
        "id": "YuQqoBCjaBun"
      },
      "outputs": [
        {
          "data": {
            "text/plain": [
              "array([0, 1, 0, ..., 0, 1, 0], dtype=int64)"
            ]
          },
          "execution_count": 102,
          "metadata": {},
          "output_type": "execute_result"
        }
      ],
      "source": [
        "# Use logistic regression\n",
        "\n",
        "from sklearn.linear_model import LogisticRegression\n",
        "logreg = LogisticRegression()\n",
        "logreg.fit(train_x,train_y)\n",
        "logreg_ypred = logreg.predict(test_x)\n",
        "logreg_ypred\n"
      ]
    },
    {
      "cell_type": "code",
      "execution_count": 103,
      "metadata": {},
      "outputs": [
        {
          "name": "stdout",
          "output_type": "stream",
          "text": [
            "Requirement already satisfied: xgboost in c:\\users\\b vasundhara\\appdata\\local\\packages\\pythonsoftwarefoundation.python.3.10_qbz5n2kfra8p0\\localcache\\local-packages\\python310\\site-packages (2.0.3)\n",
            "Requirement already satisfied: numpy in c:\\users\\b vasundhara\\appdata\\local\\packages\\pythonsoftwarefoundation.python.3.10_qbz5n2kfra8p0\\localcache\\local-packages\\python310\\site-packages (from xgboost) (1.24.3)\n",
            "Requirement already satisfied: scipy in c:\\users\\b vasundhara\\appdata\\local\\packages\\pythonsoftwarefoundation.python.3.10_qbz5n2kfra8p0\\localcache\\local-packages\\python310\\site-packages (from xgboost) (1.11.3)\n"
          ]
        },
        {
          "name": "stderr",
          "output_type": "stream",
          "text": [
            "\n",
            "[notice] A new release of pip is available: 23.3.1 -> 24.0\n",
            "[notice] To update, run: C:\\Users\\B Vasundhara\\AppData\\Local\\Microsoft\\WindowsApps\\PythonSoftwareFoundation.Python.3.10_qbz5n2kfra8p0\\python.exe -m pip install --upgrade pip\n"
          ]
        }
      ],
      "source": [
        "! pip install xgboost"
      ]
    },
    {
      "cell_type": "code",
      "execution_count": 104,
      "metadata": {
        "id": "sec4Vap_azwl"
      },
      "outputs": [
        {
          "data": {
            "text/plain": [
              "array([0, 0, 0, ..., 0, 1, 0])"
            ]
          },
          "execution_count": 104,
          "metadata": {},
          "output_type": "execute_result"
        }
      ],
      "source": [
        "# Use xgboost\n",
        "\n",
        "from xgboost import XGBClassifier\n",
        "xgb = XGBClassifier()\n",
        "xgb.fit(train_x,train_y)\n",
        "xgb_pred = xgb.predict(test_x)\n",
        "xgb_pred"
      ]
    },
    {
      "cell_type": "markdown",
      "metadata": {
        "id": "GoxGanhdcyil"
      },
      "source": [
        "# Model Evaluation"
      ]
    },
    {
      "cell_type": "code",
      "execution_count": 105,
      "metadata": {
        "id": "2vBfe7LSb1xm"
      },
      "outputs": [
        {
          "data": {
            "text/plain": [
              "0.4580335731414869"
            ]
          },
          "execution_count": 105,
          "metadata": {},
          "output_type": "execute_result"
        }
      ],
      "source": [
        "# F1 score for logistic regression\n",
        "\n",
        "from sklearn.metrics import f1_score\n",
        "f1_score(test_y,logreg_ypred)\n",
        "\n"
      ]
    },
    {
      "cell_type": "code",
      "execution_count": 106,
      "metadata": {
        "id": "bZ4b4fUGdEHi"
      },
      "outputs": [
        {
          "data": {
            "text/plain": [
              "0.6377964354102224"
            ]
          },
          "execution_count": 106,
          "metadata": {},
          "output_type": "execute_result"
        }
      ],
      "source": [
        "# F1 score for XGBoost\n",
        "\n",
        "from sklearn.metrics import f1_score\n",
        "f1_score(test_y,xgb_pred)"
      ]
    },
    {
      "cell_type": "markdown",
      "metadata": {
        "id": "RFqjXyPDdY9G"
      },
      "source": [
        "# Hyperparameter Tuning"
      ]
    },
    {
      "cell_type": "code",
      "execution_count": 107,
      "metadata": {
        "id": "hrlGoLacdLKX"
      },
      "outputs": [],
      "source": [
        "#Tweak the parameters n_estimators, max_depth ,learning_rate\n",
        "\n",
        "from sklearn.model_selection import GridSearchCV\n",
        "paramdict={'n_estimators':[50,100],'max_depth':[2,5],'learning_rate':[0.1,0.01]}\n",
        "gridsearch = GridSearchCV(estimator=xgb,param_grid=paramdict,cv=5)\n",
        "gridsearch.fit(train_x,train_y)\n",
        "xgb_gsv_ypred=gridsearch.predict(test_x)\n"
      ]
    },
    {
      "cell_type": "code",
      "execution_count": 108,
      "metadata": {
        "id": "wDipI2Q-edXJ"
      },
      "outputs": [
        {
          "data": {
            "text/plain": [
              "0.6410319531288464"
            ]
          },
          "execution_count": 108,
          "metadata": {},
          "output_type": "execute_result"
        }
      ],
      "source": [
        "# f1 score for the grid_search\n",
        "f1_score(test_y,xgb_gsv_ypred)\n"
      ]
    },
    {
      "cell_type": "markdown",
      "metadata": {
        "id": "YFNRqHMafyRv"
      },
      "source": [
        "# Performance Report"
      ]
    },
    {
      "cell_type": "code",
      "execution_count": 109,
      "metadata": {
        "id": "5t33Vu0LfcQP"
      },
      "outputs": [
        {
          "data": {
            "text/plain": [
              "array([[40620,  2176],\n",
              "       [ 5115,  6510]], dtype=int64)"
            ]
          },
          "execution_count": 109,
          "metadata": {},
          "output_type": "execute_result"
        }
      ],
      "source": [
        "# plot confusion matrix\n",
        "\n",
        "from sklearn.metrics import confusion_matrix\n",
        "confusion_matrix(test_y,xgb_gsv_ypred)\n",
        "\n"
      ]
    },
    {
      "cell_type": "code",
      "execution_count": 110,
      "metadata": {
        "id": "larzYEqSgF2Q"
      },
      "outputs": [
        {
          "data": {
            "image/png": "[encoded data removed]",
            "text/plain": [
              "<Figure size 640x480 with 1 Axes>"
            ]
          },
          "metadata": {},
          "output_type": "display_data"
        }
      ],
      "source": [
        "# ROC Curve\n",
        "\n",
        "from sklearn.metrics import roc_curve, auc\n",
        "\n",
        "fpr, tpr, thresholds = roc_curve(test_y, xgb_gsv_ypred)\n",
        "\n",
        "# Compute Area Under the ROC Curve (AUC)\n",
        "roc_auc = auc(fpr, tpr)\n",
        "\n",
        "# Plot ROC curve\n",
        "plt.figure()\n",
        "plt.plot(fpr, tpr, color='darkorange', lw=2, label='ROC curve (area = %0.2f)' % roc_auc)\n",
        "plt.plot([0, 1], [0, 1], color='navy', lw=2, linestyle='--')\n",
        "plt.xlim([0.0, 1.0])\n",
        "plt.ylim([0.0, 1.05])\n",
        "plt.xlabel('False Positive Rate')\n",
        "plt.ylabel('True Positive Rate')\n",
        "plt.title('Receiver Operating Characteristic (ROC) Curve')\n",
        "plt.legend(loc=\"lower right\")\n",
        "plt.show() "
      ]
    },
    {
      "cell_type": "markdown",
      "metadata": {
        "id": "EGufYAUJgrmY"
      },
      "source": [
        "# Submission"
      ]
    },
    {
      "cell_type": "code",
      "execution_count": 111,
      "metadata": {
        "id": "P-iIZEVVgugN"
      },
      "outputs": [
        {
          "data": {
            "text/plain": [
              "array([0, 1, 0, ..., 0, 0, 0])"
            ]
          },
          "execution_count": 111,
          "metadata": {},
          "output_type": "execute_result"
        }
      ],
      "source": [
        "# make predictions using the latest model\n",
        "y_pred  = gridsearch.predict(test_data)\n",
        "y_pred"
      ]
    },
    {
      "cell_type": "code",
      "execution_count": 112,
      "metadata": {
        "id": "sWd4To1gg8cS"
      },
      "outputs": [
        {
          "data": {
            "text/html": [
              "<div>\n",
              "<style scoped>\n",
              "    .dataframe tbody tr th:only-of-type {\n",
              "        vertical-align: middle;\n",
              "    }\n",
              "\n",
              "    .dataframe tbody tr th {\n",
              "        vertical-align: top;\n",
              "    }\n",
              "\n",
              "    .dataframe thead th {\n",
              "        text-align: right;\n",
              "    }\n",
              "</style>\n",
              "<table border=\"1\" class=\"dataframe\">\n",
              "  <thead>\n",
              "    <tr style=\"text-align: right;\">\n",
              "      <th></th>\n",
              "      <th>Exited</th>\n",
              "      <th>id</th>\n",
              "    </tr>\n",
              "  </thead>\n",
              "  <tbody>\n",
              "    <tr>\n",
              "      <th>0</th>\n",
              "      <td>0</td>\n",
              "      <td>165034</td>\n",
              "    </tr>\n",
              "    <tr>\n",
              "      <th>1</th>\n",
              "      <td>1</td>\n",
              "      <td>165035</td>\n",
              "    </tr>\n",
              "    <tr>\n",
              "      <th>2</th>\n",
              "      <td>0</td>\n",
              "      <td>165036</td>\n",
              "    </tr>\n",
              "    <tr>\n",
              "      <th>3</th>\n",
              "      <td>0</td>\n",
              "      <td>165037</td>\n",
              "    </tr>\n",
              "    <tr>\n",
              "      <th>4</th>\n",
              "      <td>0</td>\n",
              "      <td>165038</td>\n",
              "    </tr>\n",
              "    <tr>\n",
              "      <th>...</th>\n",
              "      <td>...</td>\n",
              "      <td>...</td>\n",
              "    </tr>\n",
              "    <tr>\n",
              "      <th>109946</th>\n",
              "      <td>0</td>\n",
              "      <td>274980</td>\n",
              "    </tr>\n",
              "    <tr>\n",
              "      <th>109947</th>\n",
              "      <td>0</td>\n",
              "      <td>274981</td>\n",
              "    </tr>\n",
              "    <tr>\n",
              "      <th>109948</th>\n",
              "      <td>0</td>\n",
              "      <td>274982</td>\n",
              "    </tr>\n",
              "    <tr>\n",
              "      <th>109949</th>\n",
              "      <td>0</td>\n",
              "      <td>274983</td>\n",
              "    </tr>\n",
              "    <tr>\n",
              "      <th>109950</th>\n",
              "      <td>0</td>\n",
              "      <td>274984</td>\n",
              "    </tr>\n",
              "  </tbody>\n",
              "</table>\n",
              "<p>109951 rows × 2 columns</p>\n",
              "</div>"
            ],
            "text/plain": [
              "        Exited      id\n",
              "0            0  165034\n",
              "1            1  165035\n",
              "2            0  165036\n",
              "3            0  165037\n",
              "4            0  165038\n",
              "...        ...     ...\n",
              "109946       0  274980\n",
              "109947       0  274981\n",
              "109948       0  274982\n",
              "109949       0  274983\n",
              "109950       0  274984\n",
              "\n",
              "[109951 rows x 2 columns]"
            ]
          },
          "execution_count": 112,
          "metadata": {},
          "output_type": "execute_result"
        }
      ],
      "source": [
        "# make submission dataframe\n",
        "y_pred = pd.DataFrame(y_pred,columns=['Exited'])\n",
        "y_pred['id']=y_id\n",
        "y_pred\n"
      ]
    },
    {
      "cell_type": "code",
      "execution_count": 113,
      "metadata": {
        "id": "2svox_vphfaF"
      },
      "outputs": [],
      "source": [
        "# convert submission to csv\n",
        "y_pred.to_csv('submission.csv',index=False)\n"
      ]
    },
    {
      "cell_type": "code",
      "execution_count": null,
      "metadata": {
        "id": "XoOs-5Xxhm7U"
      },
      "outputs": [],
      "source": []
    }
  ],
  "metadata": {
    "colab": {
      "include_colab_link": true,
      "private_outputs": true,
      "provenance": []
    },
    "kernelspec": {
      "display_name": "Python 3",
      "name": "python3"
    },
    "language_info": {
      "codemirror_mode": {
        "name": "ipython",
        "version": 3
      },
      "file_extension": ".py",
      "mimetype": "text/x-python",
      "name": "python",
      "nbconvert_exporter": "python",
      "pygments_lexer": "ipython3",
      "version": "3.10.11"
    }
  },
  "nbformat": 4,
  "nbformat_minor": 0
}
